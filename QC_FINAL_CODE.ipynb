{
 "cells": [
  {
   "cell_type": "code",
   "execution_count": null,
   "id": "05c75fa7",
   "metadata": {},
   "outputs": [],
   "source": [
    "import pytesseract\n",
    "import re\n",
    "import pandas as pd\n",
    "import os\n",
    "from pdf2image import convert_from_path\n",
    "import numpy as np\n",
    "import json"
   ]
  },
  {
   "cell_type": "code",
   "execution_count": null,
   "id": "dcc283a8",
   "metadata": {},
   "outputs": [],
   "source": [
    "pytesseract.pytesseract.tesseract_cmd = r'C:\\Program Files\\Tesseract-OCR\\tesseract.exe'\n",
    "\n",
    "\n",
    "poppler_path= r'C:\\Program Files\\poppler-0.68.0_x86\\poppler-0.68.0\\bin'"
   ]
  },
  {
   "cell_type": "code",
   "execution_count": null,
   "id": "2a6e90c9",
   "metadata": {},
   "outputs": [],
   "source": []
  },
  {
   "cell_type": "code",
   "execution_count": 1,
   "id": "8fc4290a",
   "metadata": {},
   "outputs": [],
   "source": [
    "def scrap(file_path):\n",
    "    \n",
    "    Output=[]\n",
    "    \n",
    "    # pytesseract path for image scrapping: give your path\n",
    "    pytesseract.pytesseract.tesseract_cmd = r'C:\\Program Files\\Tesseract-OCR\\tesseract.exe' \n",
    "\n",
    "    # poppler_path: give your path\n",
    "    poppler_path= r'C:\\Program Files\\poppler-0.68.0_x86\\poppler-0.68.0\\bin'\n",
    "    \n",
    "    # pdf to image conversion\n",
    "    images = convert_from_path(file_path, poppler_path= r'C:\\Program Files\\poppler-0.68.0_x86\\poppler-0.68.0\\bin')\n",
    "    # image to string conversion\n",
    "    text = pytesseract.image_to_string(images[0])\n",
    "    \n",
    "    # removing multispace from string\n",
    "    text1 = re.sub('\\n+','\\n',text)\n",
    "    #converting string to list\n",
    "    text2 = text1.split('\\n')\n",
    "     \n",
    "    for line in text2:\n",
    "        \n",
    "        # scrapping label of tabel\n",
    "        label = re.findall(r'\\bIndex.+',line,re.IGNORECASE) \n",
    "        # assigning into new variable \n",
    "        new_label =label\n",
    "\n",
    "        # to scrap lines which starts with index like{ 1-cap & 2-digit ex. F00} and {ends with name ex.MHV}\n",
    "        pattern_last_name= re.findall('[A-Z][0-9o]{2}.+\\s[A-Z]{3}$',line,re.IGNORECASE)  \n",
    "        # to scrap lines which starts with index like{digit or alpha ex.1,2,a,b} and {ends with name ex.MHV}\n",
    "        pattern_last_date=re.findall('[0-9a-z]{1}\\s[A-Z]{1}[a-z]{2}.+[A-Z]{3}.[0-9]{2}.[0-9]{2}.[0-9]{4}$',line,re.IGNORECASE)\n",
    "        \n",
    "        \n",
    "        if bool(label)==True:\n",
    "            # pattern of table\n",
    "            print(f'pattern of table is : {label}')\n",
    "            print('\\n')\n",
    "            \n",
    "            Output.append(label)\n",
    "            \n",
    "        if bool(pattern_last_name)==True:\n",
    "            \n",
    "            pattern_last_name1 = re.findall('[A-Z][0-9o]{2}.+\\s[A-Z]{3}$',pattern_last_name[0],re.IGNORECASE)\n",
    "\n",
    "            pattern_last_name2 = re.findall(r'\\b[0-9]{1}[^\\=\\:\\+\\@\\>\\<]+\\s[A-Z]{3}$',pattern_last_name[0])\n",
    "\n",
    "            \n",
    "            if (bool(pattern_last_name1)==True):\n",
    "                \n",
    "                if len(pattern_last_name1[0])>20:\n",
    "                    \n",
    "                    Output.append(pattern_last_name1)\n",
    "    \n",
    "                if (bool(pattern_last_name2)==True):\n",
    "            \n",
    "                    if len(pattern_last_name2[0])>20:\n",
    "                    \n",
    "                       \n",
    "\n",
    "                        Output.append(pattern_last_name2)\n",
    "\n",
    "\n",
    "                    \n",
    "                \n",
    "        elif (bool(pattern_last_date)==True):\n",
    "            \n",
    "            pattern_last_date1 = re.findall('[0-9a-z]{1}\\s[A-Z]{1}[^\\=\\:\\+\\@\\>\\<]+[A-Z]{3}.[0-9]{2}.[0-9]{2}.[0-9]{4}$',pattern_last_date[0])\n",
    "                                \n",
    "            if len(pattern_last_date1)>0:\n",
    "                \n",
    "                Output.append(pattern_last_date1)\n",
    "                \n",
    "\n",
    "                \n",
    "                \n",
    "    return Output\n"
   ]
  },
  {
   "cell_type": "code",
   "execution_count": null,
   "id": "10c6fe5d",
   "metadata": {},
   "outputs": [],
   "source": [
    "obj=scrap(r'F:\\pfile\\126.1\\D-1205.pdf')\n",
    "obj"
   ]
  }
 ],
 "metadata": {
  "kernelspec": {
   "display_name": "Python 3 (ipykernel)",
   "language": "python",
   "name": "python3"
  },
  "language_info": {
   "codemirror_mode": {
    "name": "ipython",
    "version": 3
   },
   "file_extension": ".py",
   "mimetype": "text/x-python",
   "name": "python",
   "nbconvert_exporter": "python",
   "pygments_lexer": "ipython3",
   "version": "3.9.13"
  }
 },
 "nbformat": 4,
 "nbformat_minor": 5
}
